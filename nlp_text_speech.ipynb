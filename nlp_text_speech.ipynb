{
  "nbformat": 4,
  "nbformat_minor": 0,
  "metadata": {
    "colab": {
      "provenance": [],
      "gpuType": "T4",
      "authorship_tag": "ABX9TyOGoxSNlEaeHKzOBmC6bLHh"
    },
    "kernelspec": {
      "name": "python3",
      "display_name": "Python 3"
    },
    "language_info": {
      "name": "python"
    },
    "accelerator": "GPU"
  },
  "cells": [
    {
      "cell_type": "markdown",
      "source": [
        "# Criando um sistema de assistência virtual\n",
        "Neste projeto é desenvolvido um sistema de assistência virtual, utilizando PLN (Processamento de Linguagem Natural), com base nas bibliotecas apresentadas durante o curso. O sistema obedece aos seguintes requisitos:\n",
        "\n",
        "Um módulo para transformação de texto em áudio (text to speech);\n",
        "\n",
        "* Um módulo para transformação de fala (linguagem natural humana) em texto (speech to text);\n",
        "\n",
        "* O módulo 2, deve acionar por comando de voz algumas funções automatizadas, como por exemplo: abrir uma pesquisa no Wikipedia, abrir o Youtube, apresentar a localização da farmácia mais próxima."
      ],
      "metadata": {
        "id": "ZX89SQV9sItB"
      }
    },
    {
      "cell_type": "markdown",
      "source": [
        "## Text-to-Speech"
      ],
      "metadata": {
        "id": "jZdEE-J7sWGr"
      }
    },
    {
      "cell_type": "code",
      "source": [
        "!pip install gTTS"
      ],
      "metadata": {
        "id": "wuTY2NcNuAvG",
        "colab": {
          "base_uri": "https://localhost:8080/"
        },
        "outputId": "3662a89d-9ec7-480f-ffa0-c6ec5e5b9239"
      },
      "execution_count": 19,
      "outputs": [
        {
          "output_type": "stream",
          "name": "stdout",
          "text": [
            "Collecting gTTS\n",
            "  Downloading gTTS-2.5.4-py3-none-any.whl.metadata (4.1 kB)\n",
            "Requirement already satisfied: requests<3,>=2.27 in /usr/local/lib/python3.10/dist-packages (from gTTS) (2.32.3)\n",
            "Requirement already satisfied: click<8.2,>=7.1 in /usr/local/lib/python3.10/dist-packages (from gTTS) (8.1.7)\n",
            "Requirement already satisfied: charset-normalizer<4,>=2 in /usr/local/lib/python3.10/dist-packages (from requests<3,>=2.27->gTTS) (3.4.0)\n",
            "Requirement already satisfied: idna<4,>=2.5 in /usr/local/lib/python3.10/dist-packages (from requests<3,>=2.27->gTTS) (3.10)\n",
            "Requirement already satisfied: urllib3<3,>=1.21.1 in /usr/local/lib/python3.10/dist-packages (from requests<3,>=2.27->gTTS) (2.2.3)\n",
            "Requirement already satisfied: certifi>=2017.4.17 in /usr/local/lib/python3.10/dist-packages (from requests<3,>=2.27->gTTS) (2024.12.14)\n",
            "Downloading gTTS-2.5.4-py3-none-any.whl (29 kB)\n",
            "Installing collected packages: gTTS\n",
            "Successfully installed gTTS-2.5.4\n"
          ]
        }
      ]
    },
    {
      "cell_type": "code",
      "execution_count": 20,
      "metadata": {
        "id": "VY9ghF1kjZEF"
      },
      "outputs": [],
      "source": [
        "from gtts import gTTS\n",
        "from IPython.display import Audio"
      ]
    },
    {
      "cell_type": "code",
      "source": [
        "text_to_say = \"Hello world\"\n",
        "language = \"en\""
      ],
      "metadata": {
        "id": "6lnUrbghsmlA"
      },
      "execution_count": 21,
      "outputs": []
    },
    {
      "cell_type": "code",
      "source": [
        "gtts_object = gTTS(\n",
        "    text = text_to_say,\n",
        "    lang = language,\n",
        "    slow = False\n",
        ")\n",
        "\n",
        "gtts_object.save(\"/content/gtts.wav\")"
      ],
      "metadata": {
        "id": "-gFWiaavsvSm"
      },
      "execution_count": 22,
      "outputs": []
    },
    {
      "cell_type": "code",
      "source": [
        "Audio(\"/content/gtts.wav\")"
      ],
      "metadata": {
        "id": "6zJbdRqQtAFK",
        "colab": {
          "base_uri": "https://localhost:8080/",
          "height": 75
        },
        "outputId": "1ef57d98-a278-4814-fb57-53603da3fcb7"
      },
      "execution_count": 23,
      "outputs": [
        {
          "output_type": "execute_result",
          "data": {
            "text/plain": [
              "<IPython.lib.display.Audio object>"
            ],
            "text/html": [
              "\n",
              "                <audio  controls=\"controls\" >\n",
              "                    <source src=\"data:audio/x-wav;base64,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\" type=\"audio/x-wav\" />\n",
              "                    Your browser does not support the audio element.\n",
              "                </audio>\n",
              "              "
            ]
          },
          "metadata": {},
          "execution_count": 23
        }
      ]
    },
    {
      "cell_type": "code",
      "source": [
        "french_text = \"Je vais au supermarché\"\n",
        "french_language = \"fr\""
      ],
      "metadata": {
        "id": "w5eVdJZCtPmJ"
      },
      "execution_count": 24,
      "outputs": []
    },
    {
      "cell_type": "code",
      "source": [
        "french_gtts_object = gTTS(\n",
        "    text = french_text,\n",
        "    lang = french_language,\n",
        "    slow = False\n",
        ")\n",
        "\n",
        "french_gtts_object.save(\"/content/french_gtts.wav\")"
      ],
      "metadata": {
        "id": "cCvfazIytX4M"
      },
      "execution_count": 25,
      "outputs": []
    },
    {
      "cell_type": "code",
      "source": [
        "Audio(\"/content/french_gtts.wav\")"
      ],
      "metadata": {
        "id": "0Q6no2EUtfLd",
        "colab": {
          "base_uri": "https://localhost:8080/",
          "height": 75
        },
        "outputId": "af4a9d03-5e8b-4af9-fdf4-f4be9c334f17"
      },
      "execution_count": 26,
      "outputs": [
        {
          "output_type": "execute_result",
          "data": {
            "text/plain": [
              "<IPython.lib.display.Audio object>"
            ],
            "text/html": [
              "\n",
              "                <audio  controls=\"controls\" >\n",
              "                    <source src=\"data:audio/x-wav;base64,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\" type=\"audio/x-wav\" />\n",
              "                    Your browser does not support the audio element.\n",
              "                </audio>\n",
              "              "
            ]
          },
          "metadata": {},
          "execution_count": 26
        }
      ]
    },
    {
      "cell_type": "code",
      "source": [
        "pt_text = \"Senhorita, só passamos para te lembrar que: Você combinou realizar aquela tarefa!\"\n",
        "pt_language = \"pt\""
      ],
      "metadata": {
        "id": "gQbr5ZGDFdW-"
      },
      "execution_count": 27,
      "outputs": []
    },
    {
      "cell_type": "code",
      "source": [
        "pt_gtts_object = gTTS(\n",
        "    text = pt_text,\n",
        "    lang = pt_language,\n",
        "    slow = False\n",
        ")\n",
        "\n",
        "pt_gtts_object.save(\"/content/pt_gtts.wav\")"
      ],
      "metadata": {
        "id": "V7jbB250FtKc"
      },
      "execution_count": 28,
      "outputs": []
    },
    {
      "cell_type": "code",
      "source": [
        "Audio(\"/content/pt_gtts.wav\")"
      ],
      "metadata": {
        "id": "LmvoTBH-F5jx",
        "colab": {
          "base_uri": "https://localhost:8080/",
          "height": 75
        },
        "outputId": "0fd8eee5-b474-4e14-b853-5ee98dc62e24"
      },
      "execution_count": 29,
      "outputs": [
        {
          "output_type": "execute_result",
          "data": {
            "text/plain": [
              "<IPython.lib.display.Audio object>"
            ],
            "text/html": [
              "\n",
              "                <audio  controls=\"controls\" >\n",
              "                    <source src=\"data:audio/x-wav;base64,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\" type=\"audio/x-wav\" />\n",
              "                    Your browser does not support the audio element.\n",
              "                </audio>\n",
              "              "
            ]
          },
          "metadata": {},
          "execution_count": 29
        }
      ]
    },
    {
      "cell_type": "markdown",
      "source": [
        "## Speech-to-Text"
      ],
      "metadata": {
        "id": "9eESIalsulpb"
      }
    },
    {
      "cell_type": "code",
      "source": [
        "!pip install --upgrade SpeechRecognition"
      ],
      "metadata": {
        "id": "8keWy1cfuw_r"
      },
      "execution_count": null,
      "outputs": []
    },
    {
      "cell_type": "code",
      "source": [
        "!pip install --upgrade pygame"
      ],
      "metadata": {
        "id": "kP4ygeUnO6sn"
      },
      "execution_count": null,
      "outputs": []
    },
    {
      "cell_type": "code",
      "source": [
        "!pip install --upgrade winshell"
      ],
      "metadata": {
        "id": "kXL44ChvO3tP"
      },
      "execution_count": null,
      "outputs": []
    },
    {
      "cell_type": "code",
      "source": [
        "!pip install --upgrade gTTS"
      ],
      "metadata": {
        "id": "fsiNBF5AO0D9"
      },
      "execution_count": null,
      "outputs": []
    },
    {
      "cell_type": "code",
      "source": [
        "!pip install --upgrade wikipedia"
      ],
      "metadata": {
        "id": "at5qmGBbOwtE"
      },
      "execution_count": null,
      "outputs": []
    },
    {
      "cell_type": "code",
      "source": [
        "!pip install --upgrade playsound"
      ],
      "metadata": {
        "id": "m531FLysOrvr"
      },
      "execution_count": null,
      "outputs": []
    },
    {
      "cell_type": "code",
      "source": [
        "!pip install --upgrade pyjokes"
      ],
      "metadata": {
        "id": "U21hEXJywrWV"
      },
      "execution_count": null,
      "outputs": []
    },
    {
      "cell_type": "code",
      "source": [
        "!apt install libasound2-dev portaudio19-dev libportaudio2 libportaudiocpp0 ffmpeg"
      ],
      "metadata": {
        "id": "MTRhRjGTQ_2v"
      },
      "execution_count": null,
      "outputs": []
    },
    {
      "cell_type": "code",
      "source": [
        "!pip install --upgrade --force-reinstall pyaudio"
      ],
      "metadata": {
        "id": "BiMSp8U4wyQj"
      },
      "execution_count": null,
      "outputs": []
    },
    {
      "cell_type": "code",
      "source": [
        "!pip install --upgrade --no-cache-dir pypiwin32"
      ],
      "metadata": {
        "id": "rWt8KVFmaOKa"
      },
      "execution_count": null,
      "outputs": []
    },
    {
      "cell_type": "code",
      "source": [
        "import speech_recognition as sr\n",
        "from gtts import gTTS\n",
        "\n",
        "import os\n",
        "\n",
        "import pyjokes\n",
        "import wikipedia\n",
        "import pyaudio\n",
        "import webbrowser\n",
        "# import winshell\n",
        "# import win32.lib.win32con as win32con\n",
        "import playsound\n",
        "from pygame import mixer\n",
        "from datetime import datetime"
      ],
      "metadata": {
        "id": "hid9_HBRuoOA"
      },
      "execution_count": null,
      "outputs": []
    },
    {
      "cell_type": "code",
      "source": [
        "#get mic audio\n",
        "def get_audio():\n",
        "    r = sr.Recognizer()\n",
        "    with sr.Microphone() as source:\n",
        "        r.pause_threshold = 1\n",
        "        # wait for a second to let the recognizer adjust the\n",
        "        # energy threshold based on the surrounding noise level\n",
        "        r.adjust_for_ambient_noise(source, duration=1)\n",
        "        audio = r.listen(source)\n",
        "        said = \"\"\n",
        "        try:\n",
        "            said = r.recognize_google(audio)\n",
        "            print(said)\n",
        "        except sr.UnknownValueError:\n",
        "            speak(\"Sorry, I did not get that.\")\n",
        "        except sr.RequestError:\n",
        "            speak(\"Sorry, the service is not available\")\n",
        "    return said.lower()\n",
        "\n",
        "#speak converted audio to text\n",
        "def speak(text):\n",
        "    tts = gTTS(text=text, lang='en')\n",
        "    filename = \"voice.mp3\"\n",
        "    try:\n",
        "        os.remove(filename)\n",
        "    except OSError:\n",
        "        pass\n",
        "    tts.save(filename)\n",
        "    playsound.playsound(filename)\n",
        "\n",
        "#function to respond to commands\n",
        "def respond(text):\n",
        "    print(\"Text from get audio \" + text)\n",
        "    if 'youtube' in text:\n",
        "        speak(\"What do you want to search for?\")\n",
        "        keyword = get_audio()\n",
        "        if keyword!= '':\n",
        "            url = f\"https://www.youtube.com/results?search_query={keyword}\"\n",
        "            webbrowser.get().open(url)\n",
        "            speak(f\"Here is what I have found for {keyword} on youtube\")\n",
        "    elif 'search' in text:\n",
        "        speak(\"What do you want to search for?\")\n",
        "        query = get_audio()\n",
        "        if query !='':\n",
        "            result = wikipedia.summary(query, sentences=3)\n",
        "            speak(\"According to wikipedia\")\n",
        "            print(result)\n",
        "            speak(result)\n",
        "    elif 'joke' in text:\n",
        "        speak(pyjokes.get_joke())\n",
        "    elif 'empty recycle bin' in text:\n",
        "        winshell.recycle_bin().empty(confirm=False, show_progress=False, sound=True)\n",
        "        speak(\"Recycle bin emptied\")\n",
        "    elif 'what time' in text:\n",
        "        strTime = datetime.today().strftime(\"%H:%M %p\")\n",
        "        print(strTime)\n",
        "        speak(strTime)\n",
        "    elif 'play music' in text or 'play song' in text:\n",
        "        speak(\"Now playing...\")\n",
        "        music_dir = \"C:\\\\Users\\\\UserName\\\\Downloads\\\\Music\\\\\" #add your music directory here..\n",
        "        songs = os.listdir(music_dir)\n",
        "        #counter = 0\n",
        "        print(songs)\n",
        "        playmusic(music_dir + \"\\\\\" + songs[0])\n",
        "    elif 'stop music' in text:\n",
        "        speak(\"Stopping playback.\")\n",
        "        stopmusic()\n",
        "    elif 'exit' in text:\n",
        "        speak(\"Goodbye, till next time\")\n",
        "        exit()\n",
        "#play music\n",
        "def playmusic(song):\n",
        "    mixer.init()\n",
        "    mixer.music.load(song)\n",
        "    mixer.music.play()\n",
        "#stop music\n",
        "def stopmusic():\n",
        "    mixer.music.stop()"
      ],
      "metadata": {
        "id": "y50MKkZ9wi7q"
      },
      "execution_count": null,
      "outputs": []
    },
    {
      "cell_type": "code",
      "source": [
        "import speech_recognition as sr\n",
        "\n",
        "for index, name in enumerate(sr.Microphone.list_microphone_names()):\n",
        "    print(f\"Microphone {index}: {name}\")"
      ],
      "metadata": {
        "id": "P_zmnlNBSWnB"
      },
      "execution_count": null,
      "outputs": []
    },
    {
      "cell_type": "code",
      "source": [
        "#let's try it\n",
        "text = get_audio()\n",
        "speak(text)\n",
        "while True:\n",
        "    print(\"I am listening...\")\n",
        "    text = get_audio()\n",
        "    respond(text)"
      ],
      "metadata": {
        "id": "UWi8Fuo3PMz8"
      },
      "execution_count": null,
      "outputs": []
    },
    {
      "cell_type": "code",
      "source": [
        "!pip install ffmpeg-python"
      ],
      "metadata": {
        "colab": {
          "base_uri": "https://localhost:8080/"
        },
        "id": "_YqMXQHHpYeQ",
        "outputId": "f7b62ba4-11d3-4139-81c4-2370ed1ec527"
      },
      "execution_count": 30,
      "outputs": [
        {
          "output_type": "stream",
          "name": "stdout",
          "text": [
            "Requirement already satisfied: ffmpeg-python in /usr/local/lib/python3.10/dist-packages (0.2.0)\n",
            "Requirement already satisfied: future in /usr/local/lib/python3.10/dist-packages (from ffmpeg-python) (1.0.0)\n"
          ]
        }
      ]
    },
    {
      "cell_type": "code",
      "source": [
        "from IPython.display import HTML, Audio\n",
        "from google.colab.output import eval_js\n",
        "from base64 import b64decode\n",
        "import numpy as np\n",
        "from scipy.io.wavfile import read as wav_read\n",
        "import io\n",
        "import ffmpeg\n",
        "\n",
        "AUDIO_HTML = \"\"\"\n",
        "<script>\n",
        "var my_div = document.createElement(\"DIV\");\n",
        "var my_p = document.createElement(\"P\");\n",
        "var my_btn = document.createElement(\"BUTTON\");\n",
        "var t = document.createTextNode(\"Press to start recording\");\n",
        "\n",
        "my_btn.appendChild(t);\n",
        "//my_p.appendChild(my_btn);\n",
        "my_div.appendChild(my_btn);\n",
        "document.body.appendChild(my_div);\n",
        "\n",
        "var base64data = 0;\n",
        "var reader;\n",
        "var recorder, gumStream;\n",
        "var recordButton = my_btn;\n",
        "\n",
        "var handleSuccess = function(stream) {\n",
        "  gumStream = stream;\n",
        "  var options = {\n",
        "    //bitsPerSecond: 8000, //chrome seems to ignore, always 48k\n",
        "    mimeType : 'audio/webm;codecs=opus'\n",
        "    //mimeType : 'audio/webm;codecs=pcm'\n",
        "  };\n",
        "  //recorder = new MediaRecorder(stream, options);\n",
        "  recorder = new MediaRecorder(stream);\n",
        "  recorder.ondataavailable = function(e) {\n",
        "    var url = URL.createObjectURL(e.data);\n",
        "    var preview = document.createElement('audio');\n",
        "    preview.controls = true;\n",
        "    preview.src = url;\n",
        "    document.body.appendChild(preview);\n",
        "\n",
        "    reader = new FileReader();\n",
        "    reader.readAsDataURL(e.data);\n",
        "    reader.onloadend = function() {\n",
        "      base64data = reader.result;\n",
        "      //console.log(\"Inside FileReader:\" + base64data);\n",
        "    }\n",
        "  };\n",
        "  recorder.start();\n",
        "  };\n",
        "\n",
        "recordButton.innerText = \"Recording... press to stop\";\n",
        "\n",
        "navigator.mediaDevices.getUserMedia({audio: true}).then(handleSuccess);\n",
        "\n",
        "\n",
        "function toggleRecording() {\n",
        "  if (recorder && recorder.state == \"recording\") {\n",
        "      recorder.stop();\n",
        "      gumStream.getAudioTracks()[0].stop();\n",
        "      recordButton.innerText = \"Saving the recording... pls wait!\"\n",
        "  }\n",
        "}\n",
        "\n",
        "// https://stackoverflow.com/a/951057\n",
        "function sleep(ms) {\n",
        "  return new Promise(resolve => setTimeout(resolve, ms));\n",
        "}\n",
        "\n",
        "var data = new Promise(resolve=>{\n",
        "//recordButton.addEventListener(\"click\", toggleRecording);\n",
        "recordButton.onclick = ()=>{\n",
        "toggleRecording()\n",
        "\n",
        "sleep(2000).then(() => {\n",
        "  // wait 2000ms for the data to be available...\n",
        "  // ideally this should use something like await...\n",
        "  //console.log(\"Inside data:\" + base64data)\n",
        "  resolve(base64data.toString())\n",
        "\n",
        "});\n",
        "\n",
        "}\n",
        "});\n",
        "\n",
        "</script>\n",
        "\"\"\"\n",
        "\n",
        "def get_audio():\n",
        "  display(HTML(AUDIO_HTML))\n",
        "  data = eval_js(\"data\")\n",
        "  binary = b64decode(data.split(',')[1])\n",
        "\n",
        "  # Check if data contains a comma before splitting\n",
        "  if ',' in data:\n",
        "    binary = b64decode(data.split(',')[1])\n",
        "  else:\n",
        "    # Handle the case where data is not in the expected format\n",
        "    print(\"Error: Audio data not in expected format.\")\n",
        "    # You might want to return an empty audio array or raise an exception here\n",
        "    return np.array([]), 0\n",
        "\n",
        "  process = (ffmpeg\n",
        "    .input('pipe:0')\n",
        "    .output('pipe:1', format='wav')\n",
        "    .run_async(pipe_stdin=True, pipe_stdout=True, pipe_stderr=True, quiet=True, overwrite_output=True)\n",
        "  )\n",
        "  output, err = process.communicate(input=binary)\n",
        "\n",
        "  riff_chunk_size = len(output) - 8\n",
        "  # Break up the chunk size into four bytes, held in b.\n",
        "  q = riff_chunk_size\n",
        "  b = []\n",
        "  for i in range(4):\n",
        "      q, r = divmod(q, 256)\n",
        "      b.append(r)\n",
        "\n",
        "  # Replace bytes 4:8 in proc.stdout with the actual size of the RIFF chunk.\n",
        "  riff = output[:4] + bytes(b) + output[8:]\n",
        "\n",
        "  sr, audio = wav_read(io.BytesIO(riff))\n",
        "\n",
        "  return audio, sr"
      ],
      "metadata": {
        "id": "OPPI5qCXpSFP"
      },
      "execution_count": 31,
      "outputs": []
    },
    {
      "cell_type": "code",
      "source": [
        "audio, sr = get_audio()"
      ],
      "metadata": {
        "colab": {
          "base_uri": "https://localhost:8080/",
          "height": 96
        },
        "id": "lWHzXEw3pSwE",
        "outputId": "ea60b0a9-1a46-4156-f1f7-2974fb3bc795"
      },
      "execution_count": 18,
      "outputs": [
        {
          "output_type": "display_data",
          "data": {
            "text/plain": [
              "<IPython.core.display.HTML object>"
            ],
            "text/html": [
              "\n",
              "<script>\n",
              "var my_div = document.createElement(\"DIV\");\n",
              "var my_p = document.createElement(\"P\");\n",
              "var my_btn = document.createElement(\"BUTTON\");\n",
              "var t = document.createTextNode(\"Press to start recording\");\n",
              "\n",
              "my_btn.appendChild(t);\n",
              "//my_p.appendChild(my_btn);\n",
              "my_div.appendChild(my_btn);\n",
              "document.body.appendChild(my_div);\n",
              "\n",
              "var base64data = 0;\n",
              "var reader;\n",
              "var recorder, gumStream;\n",
              "var recordButton = my_btn;\n",
              "\n",
              "var handleSuccess = function(stream) {\n",
              "  gumStream = stream;\n",
              "  var options = {\n",
              "    //bitsPerSecond: 8000, //chrome seems to ignore, always 48k\n",
              "    mimeType : 'audio/webm;codecs=opus'\n",
              "    //mimeType : 'audio/webm;codecs=pcm'\n",
              "  };            \n",
              "  //recorder = new MediaRecorder(stream, options);\n",
              "  recorder = new MediaRecorder(stream);\n",
              "  recorder.ondataavailable = function(e) {            \n",
              "    var url = URL.createObjectURL(e.data);\n",
              "    var preview = document.createElement('audio');\n",
              "    preview.controls = true;\n",
              "    preview.src = url;\n",
              "    document.body.appendChild(preview);\n",
              "\n",
              "    reader = new FileReader();\n",
              "    reader.readAsDataURL(e.data); \n",
              "    reader.onloadend = function() {\n",
              "      base64data = reader.result;\n",
              "      //console.log(\"Inside FileReader:\" + base64data);\n",
              "    }\n",
              "  };\n",
              "  recorder.start();\n",
              "  };\n",
              "\n",
              "recordButton.innerText = \"Recording... press to stop\";\n",
              "\n",
              "navigator.mediaDevices.getUserMedia({audio: true}).then(handleSuccess);\n",
              "\n",
              "\n",
              "function toggleRecording() {\n",
              "  if (recorder && recorder.state == \"recording\") {\n",
              "      recorder.stop();\n",
              "      gumStream.getAudioTracks()[0].stop();\n",
              "      recordButton.innerText = \"Saving the recording... pls wait!\"\n",
              "  }\n",
              "}\n",
              "\n",
              "// https://stackoverflow.com/a/951057\n",
              "function sleep(ms) {\n",
              "  return new Promise(resolve => setTimeout(resolve, ms));\n",
              "}\n",
              "\n",
              "var data = new Promise(resolve=>{\n",
              "//recordButton.addEventListener(\"click\", toggleRecording);\n",
              "recordButton.onclick = ()=>{\n",
              "toggleRecording()\n",
              "\n",
              "sleep(2000).then(() => {\n",
              "  // wait 2000ms for the data to be available...\n",
              "  // ideally this should use something like await...\n",
              "  //console.log(\"Inside data:\" + base64data)\n",
              "  resolve(base64data.toString())\n",
              "\n",
              "});\n",
              "\n",
              "}\n",
              "});\n",
              "      \n",
              "</script>\n"
            ]
          },
          "metadata": {}
        }
      ]
    }
  ]
}